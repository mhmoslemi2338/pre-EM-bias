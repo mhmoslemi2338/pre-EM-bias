{
 "cells": [
  {
   "cell_type": "code",
   "execution_count": 4,
   "metadata": {},
   "outputs": [
    {
     "name": "stderr",
     "output_type": "stream",
     "text": [
      "[nltk_data] Downloading package stopwords to\n",
      "[nltk_data]     /Users/mohammad/nltk_data...\n",
      "[nltk_data]   Package stopwords is already up-to-date!\n"
     ]
    },
    {
     "data": {
      "application/vnd.jupyter.widget-view+json": {
       "model_id": "6c0dd58b55044eacaa1d8f6f4745d13f",
       "version_major": 2,
       "version_minor": 0
      },
      "text/plain": [
       "BLAST:   0%|          | 0/20064 [00:00<?, ?it/s]"
      ]
     },
     "metadata": {},
     "output_type": "display_data"
    },
    {
     "name": "stdout",
     "output_type": "stream",
     "text": [
      "******\n",
      "DBLP-GoogleScholar SB\n",
      "EOP: 0.006479481641468721\n",
      "EO: 0.006479481641468721\n",
      "DP: 4.3341896540199086e-08\n",
      "           TP, FN, FP, TN\n",
      "minority:  37 0 0 1128018\n",
      "majority:  460 3 0 14005497\n",
      "\n"
     ]
    },
    {
     "name": "stderr",
     "output_type": "stream",
     "text": [
      "[nltk_data] Downloading package stopwords to\n",
      "[nltk_data]     /Users/mohammad/nltk_data...\n",
      "[nltk_data]   Package stopwords is already up-to-date!\n"
     ]
    },
    {
     "data": {
      "application/vnd.jupyter.widget-view+json": {
       "model_id": "8aa70007b7354dff9aef423112e8194e",
       "version_major": 2,
       "version_minor": 0
      },
      "text/plain": [
       "BLAST:   0%|          | 0/20064 [00:00<?, ?it/s]"
      ]
     },
     "metadata": {},
     "output_type": "display_data"
    },
    {
     "name": "stdout",
     "output_type": "stream",
     "text": [
      "******\n",
      "DBLP-GoogleScholar EQG\n",
      "EOP: 0.010799136069114423\n",
      "EO: 0.010799136069114423\n",
      "DP: -9.945445586977337e-08\n",
      "           TP, FN, FP, TN\n",
      "minority:  37 0 0 1128018\n",
      "majority:  458 5 0 14005497\n",
      "\n"
     ]
    },
    {
     "name": "stderr",
     "output_type": "stream",
     "text": [
      "[nltk_data] Downloading package stopwords to\n",
      "[nltk_data]     /Users/mohammad/nltk_data...\n",
      "[nltk_data]   Package stopwords is already up-to-date!\n"
     ]
    },
    {
     "data": {
      "application/vnd.jupyter.widget-view+json": {
       "model_id": "e7ef4047677c40ddae7d399f990417b0",
       "version_major": 2,
       "version_minor": 0
      },
      "text/plain": [
       "BLAST:   0%|          | 0/20064 [00:00<?, ?it/s]"
      ]
     },
     "metadata": {},
     "output_type": "display_data"
    },
    {
     "name": "stdout",
     "output_type": "stream",
     "text": [
      "******\n",
      "DBLP-GoogleScholar ESA\n",
      "EOP: 0.0420874438153056\n",
      "EO: 0.0420874438153056\n",
      "DP: -1.1407236145462188e-06\n",
      "           TP, FN, FP, TN\n",
      "minority:  36 1 0 1128018\n",
      "majority:  431 32 0 14005497\n",
      "\n"
     ]
    },
    {
     "name": "stderr",
     "output_type": "stream",
     "text": [
      "[nltk_data] Downloading package stopwords to\n",
      "[nltk_data]     /Users/mohammad/nltk_data...\n",
      "[nltk_data]   Package stopwords is already up-to-date!\n"
     ]
    },
    {
     "data": {
      "application/vnd.jupyter.widget-view+json": {
       "model_id": "e0108dee6a8e432cb99afbd9be79b77c",
       "version_major": 2,
       "version_minor": 0
      },
      "text/plain": [
       "BLAST:   0%|          | 0/20064 [00:00<?, ?it/s]"
      ]
     },
     "metadata": {},
     "output_type": "display_data"
    },
    {
     "name": "stdout",
     "output_type": "stream",
     "text": [
      "******\n",
      "DBLP-GoogleScholar QG\n",
      "EOP: 0.006479481641468721\n",
      "EO: 0.006479481641468721\n",
      "DP: 4.3341896540199086e-08\n",
      "           TP, FN, FP, TN\n",
      "minority:  37 0 0 1128018\n",
      "majority:  460 3 0 14005497\n",
      "\n"
     ]
    },
    {
     "name": "stderr",
     "output_type": "stream",
     "text": [
      "[nltk_data] Downloading package stopwords to\n",
      "[nltk_data]     /Users/mohammad/nltk_data...\n",
      "[nltk_data]   Package stopwords is already up-to-date!\n"
     ]
    },
    {
     "data": {
      "application/vnd.jupyter.widget-view+json": {
       "model_id": "b3e74aee5b084d148c4c24559a460604",
       "version_major": 2,
       "version_minor": 0
      },
      "text/plain": [
       "BLAST:   0%|          | 0/20064 [00:00<?, ?it/s]"
      ]
     },
     "metadata": {},
     "output_type": "display_data"
    },
    {
     "name": "stdout",
     "output_type": "stream",
     "text": [
      "******\n",
      "DBLP-GoogleScholar SA\n",
      "EOP: 0.05183585313174943\n",
      "EO: 0.05183585313174943\n",
      "DP: -1.456019803764532e-06\n",
      "           TP, FN, FP, TN\n",
      "minority:  37 0 0 1128018\n",
      "majority:  439 24 0 14005497\n",
      "\n"
     ]
    },
    {
     "name": "stderr",
     "output_type": "stream",
     "text": [
      "[nltk_data] Downloading package stopwords to\n",
      "[nltk_data]     /Users/mohammad/nltk_data...\n",
      "[nltk_data]   Package stopwords is already up-to-date!\n"
     ]
    },
    {
     "data": {
      "application/vnd.jupyter.widget-view+json": {
       "model_id": "65d10780040a49e69f66d73a0888a072",
       "version_major": 2,
       "version_minor": 0
      },
      "text/plain": [
       "Cardinality Edge Pruning:   0%|          | 0/2072 [00:00<?, ?it/s]"
      ]
     },
     "metadata": {},
     "output_type": "display_data"
    },
    {
     "name": "stdout",
     "output_type": "stream",
     "text": [
      "******\n",
      "iTunes-Amazon SB\n",
      "EOP: 0.0\n",
      "EO: 0.0\n",
      "DP: 4.5370072409663817e-07\n",
      "           TP, FN, FP, TN\n",
      "minority:  2 0 0 15804497\n",
      "majority:  11 0 0 18957434\n",
      "\n"
     ]
    },
    {
     "name": "stderr",
     "output_type": "stream",
     "text": [
      "[nltk_data] Downloading package stopwords to\n",
      "[nltk_data]     /Users/mohammad/nltk_data...\n",
      "[nltk_data]   Package stopwords is already up-to-date!\n"
     ]
    },
    {
     "data": {
      "application/vnd.jupyter.widget-view+json": {
       "model_id": "1120b9b46b6a44dea8709411896207ec",
       "version_major": 2,
       "version_minor": 0
      },
      "text/plain": [
       "Cardinality Edge Pruning:   0%|          | 0/2072 [00:00<?, ?it/s]"
      ]
     },
     "metadata": {},
     "output_type": "display_data"
    },
    {
     "name": "stdout",
     "output_type": "stream",
     "text": [
      "******\n",
      "iTunes-Amazon EQG\n",
      "EOP: 0.5\n",
      "EO: 0.5\n",
      "DP: 5.169738465157671e-07\n",
      "           TP, FN, FP, TN\n",
      "minority:  1 1 0 15804497\n",
      "majority:  11 0 0 18957434\n",
      "\n"
     ]
    },
    {
     "name": "stderr",
     "output_type": "stream",
     "text": [
      "[nltk_data] Downloading package stopwords to\n",
      "[nltk_data]     /Users/mohammad/nltk_data...\n",
      "[nltk_data]   Package stopwords is already up-to-date!\n"
     ]
    },
    {
     "data": {
      "application/vnd.jupyter.widget-view+json": {
       "model_id": "3fa2f3f0307d48d995a0d38d612e7e53",
       "version_major": 2,
       "version_minor": 0
      },
      "text/plain": [
       "Cardinality Edge Pruning:   0%|          | 0/2072 [00:00<?, ?it/s]"
      ]
     },
     "metadata": {},
     "output_type": "display_data"
    },
    {
     "name": "stdout",
     "output_type": "stream",
     "text": [
      "******\n",
      "iTunes-Amazon ESA\n",
      "EOP: 0.2727272727272727\n",
      "EO: 0.2727272727272727\n",
      "DP: 2.9545155075075746e-07\n",
      "           TP, FN, FP, TN\n",
      "minority:  2 0 0 15804497\n",
      "majority:  8 3 0 18957434\n",
      "\n"
     ]
    },
    {
     "name": "stderr",
     "output_type": "stream",
     "text": [
      "[nltk_data] Downloading package stopwords to\n",
      "[nltk_data]     /Users/mohammad/nltk_data...\n",
      "[nltk_data]   Package stopwords is already up-to-date!\n"
     ]
    },
    {
     "data": {
      "application/vnd.jupyter.widget-view+json": {
       "model_id": "7d6d76528d504b14af19204aaf120ccb",
       "version_major": 2,
       "version_minor": 0
      },
      "text/plain": [
       "Cardinality Edge Pruning:   0%|          | 0/2072 [00:00<?, ?it/s]"
      ]
     },
     "metadata": {},
     "output_type": "display_data"
    },
    {
     "name": "stdout",
     "output_type": "stream",
     "text": [
      "******\n",
      "iTunes-Amazon QG\n",
      "EOP: 0.0\n",
      "EO: 0.0\n",
      "DP: 4.5370072409663817e-07\n",
      "           TP, FN, FP, TN\n",
      "minority:  2 0 0 15804497\n",
      "majority:  11 0 0 18957434\n",
      "\n"
     ]
    },
    {
     "name": "stderr",
     "output_type": "stream",
     "text": [
      "[nltk_data] Downloading package stopwords to\n",
      "[nltk_data]     /Users/mohammad/nltk_data...\n",
      "[nltk_data]   Package stopwords is already up-to-date!\n"
     ]
    },
    {
     "data": {
      "application/vnd.jupyter.widget-view+json": {
       "model_id": "fcb5a1cb75864fa7a2abf1c3bb96c30a",
       "version_major": 2,
       "version_minor": 0
      },
      "text/plain": [
       "Cardinality Edge Pruning:   0%|          | 0/2072 [00:00<?, ?it/s]"
      ]
     },
     "metadata": {},
     "output_type": "display_data"
    },
    {
     "name": "stdout",
     "output_type": "stream",
     "text": [
      "******\n",
      "iTunes-Amazon SA\n",
      "EOP: 0.0\n",
      "EO: 0.0\n",
      "DP: 4.5370072409663817e-07\n",
      "           TP, FN, FP, TN\n",
      "minority:  2 0 0 15804497\n",
      "majority:  11 0 0 18957434\n",
      "\n"
     ]
    }
   ],
   "source": [
    "from func import *\n",
    "import numpy as np\n",
    "import pandas as pd\n",
    "import itertools\n",
    "\n",
    "tasks = ['Beer','Fodors-Zagat', 'Walmart-Amazon', 'Amazon-Google', 'DBLP-ACM', 'DBLP-GoogleScholar', 'iTunes-Amazon']\n",
    "# tasks = ['DBLP-GoogleScholar', 'iTunes-Amazon']\n",
    "methods = ['SB', 'EQG', 'ESA', 'QG','SA']#,'AE','CTT']\n",
    "\n",
    "for task in tasks:\n",
    "    for method in methods:\n",
    "        \n",
    "        left_df, right_df,match_df = load_blk_data(task)\n",
    "        # left_df = left_df.sample(frac= 0.3, replace = False,random_state=42)\n",
    "        # right_df = right_df.sample(frac= 0.3, replace = False, random_state=42)\n",
    "        candidates, tot_time, df = trad_blk(task, method, left_df, right_df, match_df, attr_type = 'all')\n",
    "\n",
    "        col = sens_dict[task][0]\n",
    "\n",
    "        combinations = list(itertools.product(left_df['id'], right_df['id']))\n",
    "        combinations_df = pd.DataFrame(combinations, columns=['left_id', 'right_id'])\n",
    "        combinations_df = combinations_df.rename(columns={'left_id':'id1','right_id':'id2'})\n",
    "        match_df = match_df.rename(columns={'ltable_id':'id1','rtable_id':'id2'})\n",
    "        merged_df= pd.merge(combinations_df, df[['id1', 'id2']], \n",
    "                            on=['id1', 'id2'], how='left', indicator=True)\n",
    "\n",
    "        merged_df['pred-label2'] = 0\n",
    "        merged_df.loc[merged_df['_merge'] == 'both', 'pred-label2'] = 1\n",
    "\n",
    "\n",
    "        merged_df2= pd.merge(combinations_df, match_df[['id1', 'id2']], \n",
    "                            on=['id1', 'id2'], how='left',  indicator=True)\n",
    "\n",
    "        merged_df2['label'] = 0\n",
    "        merged_df2.loc[merged_df2['_merge'] == 'both', 'label'] = 1\n",
    "\n",
    "\n",
    "        combinations = list(itertools.product(left_df[col], right_df[col]))\n",
    "        combinations_df = pd.DataFrame(combinations, columns=['left_id', 'right_id'])\n",
    "        print('******')\n",
    "\n",
    "\n",
    "        a = make_sens_vector(pd.DataFrame({col:combinations_df['left_id']}),task, sens_dict)\n",
    "        b = make_sens_vector(pd.DataFrame({col:combinations_df['right_id']}),task, sens_dict)\n",
    "        merged_df2['sens'] = np.logical_or(a,b)\n",
    "        merged_df['sens'] = np.logical_or(a,b)\n",
    "        res = merged_df[['pred-label2','sens']]\n",
    "        res['label'] = merged_df2['label']\n",
    "        res['pred-label'] = 0\n",
    "        res['pred-label'] = np.logical_and(res['label']==1, res['pred-label2']==1)\n",
    "\n",
    "\n",
    "        # Separate the minority and majority groups\n",
    "        minor = res[res['sens'] == 1]\n",
    "        major = res[res['sens'] == 0]\n",
    "\n",
    "\n",
    "        # For Minority group (group 1)\n",
    "        actual = minor['label']\n",
    "        predicted = minor['pred-label']\n",
    "        TP_g1 = np.sum((actual == 1) & (predicted == 1))\n",
    "        FN_g1 = np.sum((actual == 1) & (predicted == 0))\n",
    "        FP_g1 = np.sum((actual == 0) & (predicted == 1))\n",
    "        TN_g1 = np.sum((actual == 0) & (predicted == 0))\n",
    "\n",
    "        # For Majority group (group 2)\n",
    "        actual = major['label']\n",
    "        predicted = major['pred-label']\n",
    "        TP_g2 = np.sum((actual == 1) & (predicted == 1))\n",
    "        FN_g2 = np.sum((actual == 1) & (predicted == 0))\n",
    "        FP_g2 = np.sum((actual == 0) & (predicted == 1))\n",
    "        TN_g2 = np.sum((actual == 0) & (predicted == 0))\n",
    "\n",
    "\n",
    "        tpr_g1 = TP_g1 / (TP_g1 + FN_g1)\n",
    "        fpr_g1 = FP_g1 / (FP_g1 + TN_g1)\n",
    "        tpr_g2 = TP_g2 / (TP_g2 + FN_g2)\n",
    "        fpr_g2 = FP_g2 / (FP_g2 + TN_g2)\n",
    "\n",
    "\n",
    "        EO = np.abs((TP_g1 / (TP_g1+ FN_g1)) - (TP_g2 / (TP_g2+ FN_g2))) + np.abs(FP_g1/ (FP_g1+TN_g1) - FP_g2/ (FP_g2+TN_g2))\n",
    "        EOP = np.abs(tpr_g1 - tpr_g2)\n",
    "        DP =  ((TP_g2 + FP_g2)/(TP_g2 + FP_g2 + TN_g2 + FN_g2)) - ((TP_g1 + FP_g1)/(TP_g1 + FP_g1 + TN_g1 + FN_g1))\n",
    "\n",
    "\n",
    "        metrics = { 'EOP': EOP,'EO': EO,'DP': DP}\n",
    "        print(task , method)\n",
    "        for metric, value in metrics.items():\n",
    "            print(f\"{metric}: {value}\")\n",
    "        print('           TP, FN, FP, TN')\n",
    "        print('minority: ', TP_g1,FN_g1,FP_g1,TN_g1 )\n",
    "        print('majority: ', TP_g2,FN_g2,FP_g2,TN_g2 )\n",
    "        print()"
   ]
  },
  {
   "cell_type": "code",
   "execution_count": null,
   "metadata": {},
   "outputs": [],
   "source": []
  },
  {
   "cell_type": "code",
   "execution_count": null,
   "metadata": {},
   "outputs": [],
   "source": []
  },
  {
   "cell_type": "code",
   "execution_count": null,
   "metadata": {},
   "outputs": [],
   "source": []
  },
  {
   "cell_type": "code",
   "execution_count": null,
   "metadata": {},
   "outputs": [],
   "source": []
  },
  {
   "cell_type": "code",
   "execution_count": null,
   "metadata": {},
   "outputs": [],
   "source": []
  },
  {
   "cell_type": "code",
   "execution_count": null,
   "metadata": {},
   "outputs": [],
   "source": []
  }
 ],
 "metadata": {
  "kernelspec": {
   "display_name": "Python 3",
   "language": "python",
   "name": "python3"
  },
  "language_info": {
   "codemirror_mode": {
    "name": "ipython",
    "version": 3
   },
   "file_extension": ".py",
   "mimetype": "text/x-python",
   "name": "python",
   "nbconvert_exporter": "python",
   "pygments_lexer": "ipython3",
   "version": "3.12.2"
  }
 },
 "nbformat": 4,
 "nbformat_minor": 2
}
