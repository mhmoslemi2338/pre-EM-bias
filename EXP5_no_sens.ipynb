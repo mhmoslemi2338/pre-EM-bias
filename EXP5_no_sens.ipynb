{
 "cells": [
  {
   "cell_type": "code",
   "execution_count": null,
   "metadata": {},
   "outputs": [],
   "source": []
  },
  {
   "cell_type": "code",
   "execution_count": null,
   "metadata": {},
   "outputs": [],
   "source": []
  },
  {
   "cell_type": "markdown",
   "metadata": {},
   "source": [
    "##  Blocking stats, Bias\n",
    "\n"
   ]
  },
  {
   "cell_type": "code",
   "execution_count": 1,
   "metadata": {},
   "outputs": [
    {
     "name": "stderr",
     "output_type": "stream",
     "text": [
      "[nltk_data] Downloading package stopwords to\n",
      "[nltk_data]     /Users/mohammad/nltk_data...\n",
      "[nltk_data]   Package stopwords is already up-to-date!\n"
     ]
    },
    {
     "data": {
      "application/vnd.jupyter.widget-view+json": {
       "model_id": "f52a8739b2484482a46875e2451d5fcd",
       "version_major": 2,
       "version_minor": 0
      },
      "text/plain": [
       "BLAST:   0%|          | 0/7345 [00:00<?, ?it/s]"
      ]
     },
     "metadata": {},
     "output_type": "display_data"
    },
    {
     "name": "stdout",
     "output_type": "stream",
     "text": [
      "Beer StandardBlocking\n",
      "99.9123 98.5294 0.5858 99.216\n",
      "\n",
      "1\n",
      "sens res done\n",
      "sens match done\n",
      "Minor: 99.92 96.55 0.51 98.21\n",
      "major: 99.91 100.0 0.66 99.95\n",
      "diff : -0.01 3.45 0.15 1.75\n",
      "\n"
     ]
    },
    {
     "name": "stderr",
     "output_type": "stream",
     "text": [
      "[nltk_data] Downloading package stopwords to\n",
      "[nltk_data]     /Users/mohammad/nltk_data...\n",
      "[nltk_data]   Package stopwords is already up-to-date!\n"
     ]
    },
    {
     "data": {
      "application/vnd.jupyter.widget-view+json": {
       "model_id": "fb981e1bacd347d3bcccffa4f8cefe72",
       "version_major": 2,
       "version_minor": 0
      },
      "text/plain": [
       "BLAST:   0%|          | 0/7345 [00:00<?, ?it/s]"
      ]
     },
     "metadata": {},
     "output_type": "display_data"
    },
    {
     "name": "stdout",
     "output_type": "stream",
     "text": [
      "Beer ExtendedQGramsBlocking\n",
      "99.9157 94.1176 0.5823 96.93\n",
      "\n",
      "1\n",
      "sens res done\n",
      "Minor: 99.92 96.55 0.54 98.21\n",
      "major: 99.91 92.31 0.62 95.96\n",
      "diff : -0.02 -4.24 0.08 -2.25\n",
      "\n"
     ]
    },
    {
     "name": "stderr",
     "output_type": "stream",
     "text": [
      "[nltk_data] Downloading package stopwords to\n",
      "[nltk_data]     /Users/mohammad/nltk_data...\n",
      "[nltk_data]   Package stopwords is already up-to-date!\n"
     ]
    },
    {
     "data": {
      "application/vnd.jupyter.widget-view+json": {
       "model_id": "c70b8d2408c344b7916ecd1d723ede06",
       "version_major": 2,
       "version_minor": 0
      },
      "text/plain": [
       "BLAST:   0%|          | 0/7345 [00:00<?, ?it/s]"
      ]
     },
     "metadata": {},
     "output_type": "display_data"
    },
    {
     "name": "stdout",
     "output_type": "stream",
     "text": [
      "Beer ExtendedSuffixArraysBlocking\n",
      "99.946 91.1765 0.8811 95.36\n",
      "\n",
      "1\n",
      "sens res done\n",
      "Minor: 99.95 96.55 0.87 98.22\n",
      "major: 99.94 87.18 0.89 93.12\n",
      "diff : -0.01 -9.37 0.01 -5.1\n",
      "\n"
     ]
    },
    {
     "name": "stderr",
     "output_type": "stream",
     "text": [
      "[nltk_data] Downloading package stopwords to\n",
      "[nltk_data]     /Users/mohammad/nltk_data...\n",
      "[nltk_data]   Package stopwords is already up-to-date!\n"
     ]
    },
    {
     "data": {
      "application/vnd.jupyter.widget-view+json": {
       "model_id": "683486c9efd64749874bed36d2285b8b",
       "version_major": 2,
       "version_minor": 0
      },
      "text/plain": [
       "BLAST:   0%|          | 0/7345 [00:00<?, ?it/s]"
      ]
     },
     "metadata": {},
     "output_type": "display_data"
    },
    {
     "name": "stdout",
     "output_type": "stream",
     "text": [
      "Beer QGramsBlocking\n",
      "99.9195 95.5882 0.6194 97.7059\n",
      "\n",
      "1\n",
      "sens res done\n",
      "Minor: 99.93 96.55 0.55 98.21\n",
      "major: 99.91 94.87 0.68 97.33\n",
      "diff : -0.01 -1.68 0.13 -0.88\n",
      "\n"
     ]
    },
    {
     "name": "stderr",
     "output_type": "stream",
     "text": [
      "[nltk_data] Downloading package stopwords to\n",
      "[nltk_data]     /Users/mohammad/nltk_data...\n",
      "[nltk_data]   Package stopwords is already up-to-date!\n"
     ]
    },
    {
     "data": {
      "application/vnd.jupyter.widget-view+json": {
       "model_id": "397f1e7af46d4d1a910936113742c0a7",
       "version_major": 2,
       "version_minor": 0
      },
      "text/plain": [
       "BLAST:   0%|          | 0/7345 [00:00<?, ?it/s]"
      ]
     },
     "metadata": {},
     "output_type": "display_data"
    },
    {
     "name": "stdout",
     "output_type": "stream",
     "text": [
      "Beer SuffixArraysBlocking\n",
      "99.9416 89.7059 0.8016 94.5475\n",
      "\n",
      "1\n",
      "sens res done\n",
      "Minor: 99.95 96.55 0.79 98.22\n",
      "major: 99.94 84.62 0.81 91.64\n",
      "diff : -0.01 -11.94 0.02 -6.58\n",
      "\n"
     ]
    },
    {
     "name": "stderr",
     "output_type": "stream",
     "text": [
      "[nltk_data] Downloading package stopwords to\n",
      "[nltk_data]     /Users/mohammad/nltk_data...\n",
      "[nltk_data]   Package stopwords is already up-to-date!\n"
     ]
    },
    {
     "data": {
      "application/vnd.jupyter.widget-view+json": {
       "model_id": "77d5164188fd4181a8711e071f80c1a7",
       "version_major": 2,
       "version_minor": 0
      },
      "text/plain": [
       "BLAST:   0%|          | 0/864 [00:00<?, ?it/s]"
      ]
     },
     "metadata": {},
     "output_type": "display_data"
    },
    {
     "name": "stdout",
     "output_type": "stream",
     "text": [
      "Fodors-Zagat StandardBlocking\n",
      "99.2099 100.0 8.0344 99.6034\n",
      "\n",
      "1\n",
      "sens res done\n",
      "sens match done\n",
      "Minor: 99.29 100.0 6.15 99.64\n",
      "major: 99.2 100.0 8.31 99.6\n",
      "diff : -0.09 0.0 2.17 -0.05\n",
      "\n"
     ]
    },
    {
     "name": "stderr",
     "output_type": "stream",
     "text": [
      "[nltk_data] Downloading package stopwords to\n",
      "[nltk_data]     /Users/mohammad/nltk_data...\n",
      "[nltk_data]   Package stopwords is already up-to-date!\n"
     ]
    },
    {
     "data": {
      "application/vnd.jupyter.widget-view+json": {
       "model_id": "9eea4b363c974907a61ace30c91178c7",
       "version_major": 2,
       "version_minor": 0
      },
      "text/plain": [
       "BLAST:   0%|          | 0/864 [00:00<?, ?it/s]"
      ]
     },
     "metadata": {},
     "output_type": "display_data"
    },
    {
     "name": "stdout",
     "output_type": "stream",
     "text": [
      "Fodors-Zagat ExtendedQGramsBlocking\n",
      "99.2212 100.0 8.1514 99.6091\n",
      "\n",
      "1\n",
      "sens res done\n",
      "Minor: 99.19 100.0 5.39 99.59\n",
      "major: 99.23 100.0 8.63 99.61\n",
      "diff : 0.04 0.0 3.24 0.02\n",
      "\n"
     ]
    },
    {
     "name": "stderr",
     "output_type": "stream",
     "text": [
      "[nltk_data] Downloading package stopwords to\n",
      "[nltk_data]     /Users/mohammad/nltk_data...\n",
      "[nltk_data]   Package stopwords is already up-to-date!\n"
     ]
    },
    {
     "data": {
      "application/vnd.jupyter.widget-view+json": {
       "model_id": "1e4ade38a1544c6baa8ae8166658203e",
       "version_major": 2,
       "version_minor": 0
      },
      "text/plain": [
       "BLAST:   0%|          | 0/864 [00:00<?, ?it/s]"
      ]
     },
     "metadata": {},
     "output_type": "display_data"
    },
    {
     "name": "stderr",
     "output_type": "stream",
     "text": [
      "[nltk_data] Downloading package stopwords to\n",
      "[nltk_data]     /Users/mohammad/nltk_data...\n",
      "[nltk_data]   Package stopwords is already up-to-date!\n"
     ]
    },
    {
     "name": "stdout",
     "output_type": "stream",
     "text": [
      "Fodors-Zagat ExtendedSuffixArraysBlocking\n",
      "99.5176 100.0 13.161 99.7582\n",
      "\n",
      "1\n",
      "sens res done\n",
      "Minor: 99.47 100.0 8.21 99.73\n",
      "major: 99.53 100.0 14.09 99.76\n",
      "diff : 0.06 0.0 5.88 0.03\n",
      "\n"
     ]
    },
    {
     "data": {
      "application/vnd.jupyter.widget-view+json": {
       "model_id": "9f88110ef71e4cceaa1a718bdbb52be9",
       "version_major": 2,
       "version_minor": 0
      },
      "text/plain": [
       "BLAST:   0%|          | 0/864 [00:00<?, ?it/s]"
      ]
     },
     "metadata": {},
     "output_type": "display_data"
    },
    {
     "name": "stdout",
     "output_type": "stream",
     "text": [
      "Fodors-Zagat QGramsBlocking\n",
      "99.126 100.0 7.2633 99.5611\n",
      "\n",
      "1\n",
      "sens res done\n",
      "Minor: 99.08 100.0 4.74 99.54\n",
      "major: 99.13 100.0 7.71 99.56\n",
      "diff : 0.05 0.0 2.97 0.03\n",
      "\n"
     ]
    },
    {
     "name": "stderr",
     "output_type": "stream",
     "text": [
      "[nltk_data] Downloading package stopwords to\n",
      "[nltk_data]     /Users/mohammad/nltk_data...\n",
      "[nltk_data]   Package stopwords is already up-to-date!\n"
     ]
    },
    {
     "data": {
      "application/vnd.jupyter.widget-view+json": {
       "model_id": "9f1212f72d404dfca95515375fa28fe5",
       "version_major": 2,
       "version_minor": 0
      },
      "text/plain": [
       "BLAST:   0%|          | 0/864 [00:00<?, ?it/s]"
      ]
     },
     "metadata": {},
     "output_type": "display_data"
    },
    {
     "name": "stdout",
     "output_type": "stream",
     "text": [
      "Fodors-Zagat SuffixArraysBlocking\n",
      "99.4666 100.0 11.9022 99.7326\n",
      "\n",
      "1\n",
      "sens res done\n",
      "Minor: 99.46 100.0 8.03 99.73\n",
      "major: 99.47 100.0 12.56 99.73\n",
      "diff : 0.01 0.0 4.53 0.01\n",
      "\n"
     ]
    },
    {
     "name": "stderr",
     "output_type": "stream",
     "text": [
      "[nltk_data] Downloading package stopwords to\n",
      "[nltk_data]     /Users/mohammad/nltk_data...\n",
      "[nltk_data]   Package stopwords is already up-to-date!\n"
     ]
    },
    {
     "data": {
      "application/vnd.jupyter.widget-view+json": {
       "model_id": "074fadff5f044536826d3f0a67232dad",
       "version_major": 2,
       "version_minor": 0
      },
      "text/plain": [
       "BLAST:   0%|          | 0/24628 [00:00<?, ?it/s]"
      ]
     },
     "metadata": {},
     "output_type": "display_data"
    },
    {
     "name": "stdout",
     "output_type": "stream",
     "text": [
      "Walmart-Amazon StandardBlocking\n",
      "99.8438 98.8565 1.0797 99.3477\n",
      "\n",
      "1\n",
      "sens res done\n",
      "sens match done\n",
      "Minor: 99.78 96.59 1.52 98.16\n",
      "major: 99.85 99.08 1.05 99.46\n",
      "diff : 0.07 2.49 -0.47 1.3\n",
      "\n"
     ]
    },
    {
     "name": "stderr",
     "output_type": "stream",
     "text": [
      "[nltk_data] Downloading package stopwords to\n",
      "[nltk_data]     /Users/mohammad/nltk_data...\n",
      "[nltk_data]   Package stopwords is already up-to-date!\n"
     ]
    },
    {
     "data": {
      "application/vnd.jupyter.widget-view+json": {
       "model_id": "db5b1088928f40ec9e3739660654aa94",
       "version_major": 2,
       "version_minor": 0
      },
      "text/plain": [
       "BLAST:   0%|          | 0/24628 [00:00<?, ?it/s]"
      ]
     },
     "metadata": {},
     "output_type": "display_data"
    },
    {
     "name": "stdout",
     "output_type": "stream",
     "text": [
      "Walmart-Amazon ExtendedQGramsBlocking\n",
      "99.8329 98.5447 1.0063 99.1846\n",
      "\n",
      "1\n",
      "sens res done\n",
      "Minor: 99.73 96.59 1.26 98.14\n",
      "major: 99.84 98.74 0.99 99.29\n",
      "diff : 0.1 2.15 -0.27 1.15\n",
      "\n"
     ]
    },
    {
     "name": "stderr",
     "output_type": "stream",
     "text": [
      "[nltk_data] Downloading package stopwords to\n",
      "[nltk_data]     /Users/mohammad/nltk_data...\n",
      "[nltk_data]   Package stopwords is already up-to-date!\n"
     ]
    },
    {
     "data": {
      "application/vnd.jupyter.widget-view+json": {
       "model_id": "c52c006e0aa54f258003823b6bb1ba69",
       "version_major": 2,
       "version_minor": 0
      },
      "text/plain": [
       "BLAST:   0%|          | 0/24628 [00:00<?, ?it/s]"
      ]
     },
     "metadata": {},
     "output_type": "display_data"
    },
    {
     "name": "stdout",
     "output_type": "stream",
     "text": [
      "Walmart-Amazon ExtendedSuffixArraysBlocking\n",
      "99.9644 88.6694 4.2503 93.9788\n",
      "\n",
      "1\n",
      "sens res done\n",
      "Minor: 99.97 87.5 10.07 93.32\n",
      "major: 99.96 88.79 4.02 94.04\n",
      "diff : -0.01 1.29 -6.05 0.72\n",
      "\n"
     ]
    },
    {
     "name": "stderr",
     "output_type": "stream",
     "text": [
      "[nltk_data] Downloading package stopwords to\n",
      "[nltk_data]     /Users/mohammad/nltk_data...\n",
      "[nltk_data]   Package stopwords is already up-to-date!\n"
     ]
    },
    {
     "data": {
      "application/vnd.jupyter.widget-view+json": {
       "model_id": "c67550dcbdd74f32b19577459a209121",
       "version_major": 2,
       "version_minor": 0
      },
      "text/plain": [
       "BLAST:   0%|          | 0/24628 [00:00<?, ?it/s]"
      ]
     },
     "metadata": {},
     "output_type": "display_data"
    },
    {
     "name": "stdout",
     "output_type": "stream",
     "text": [
      "Walmart-Amazon QGramsBlocking\n",
      "99.8411 98.8565 1.0618 99.3464\n",
      "\n",
      "1\n",
      "sens res done\n",
      "Minor: 99.73 96.59 1.23 98.13\n",
      "major: 99.85 99.08 1.05 99.46\n",
      "diff : 0.12 2.49 -0.19 1.33\n",
      "\n"
     ]
    },
    {
     "name": "stderr",
     "output_type": "stream",
     "text": [
      "[nltk_data] Downloading package stopwords to\n",
      "[nltk_data]     /Users/mohammad/nltk_data...\n",
      "[nltk_data]   Package stopwords is already up-to-date!\n"
     ]
    },
    {
     "data": {
      "application/vnd.jupyter.widget-view+json": {
       "model_id": "72996299066f4542958d85d9391e7040",
       "version_major": 2,
       "version_minor": 0
      },
      "text/plain": [
       "BLAST:   0%|          | 0/24628 [00:00<?, ?it/s]"
      ]
     },
     "metadata": {},
     "output_type": "display_data"
    },
    {
     "name": "stdout",
     "output_type": "stream",
     "text": [
      "Walmart-Amazon SuffixArraysBlocking\n",
      "99.9556 91.4761 3.5192 95.5281\n",
      "\n",
      "1\n",
      "sens res done\n",
      "Minor: 99.97 86.36 9.67 92.67\n",
      "major: 99.96 91.99 3.32 95.81\n",
      "diff : -0.01 5.63 -6.35 3.14\n",
      "\n"
     ]
    },
    {
     "name": "stderr",
     "output_type": "stream",
     "text": [
      "[nltk_data] Downloading package stopwords to\n",
      "[nltk_data]     /Users/mohammad/nltk_data...\n",
      "[nltk_data]   Package stopwords is already up-to-date!\n"
     ]
    },
    {
     "data": {
      "application/vnd.jupyter.widget-view+json": {
       "model_id": "0312ad9bed40498b80782941642daefc",
       "version_major": 2,
       "version_minor": 0
      },
      "text/plain": [
       "BLAST:   0%|          | 0/4589 [00:00<?, ?it/s]"
      ]
     },
     "metadata": {},
     "output_type": "display_data"
    },
    {
     "name": "stdout",
     "output_type": "stream",
     "text": [
      "Amazon-Google StandardBlocking\n",
      "99.7319 97.8578 9.6886 98.786\n",
      "\n",
      "1\n",
      "sens res done\n",
      "sens match done\n",
      "Minor: 99.7 96.67 7.17 98.16\n",
      "major: 99.73 97.92 9.87 98.82\n",
      "diff : 0.03 1.26 2.7 0.66\n",
      "\n"
     ]
    },
    {
     "name": "stderr",
     "output_type": "stream",
     "text": [
      "[nltk_data] Downloading package stopwords to\n",
      "[nltk_data]     /Users/mohammad/nltk_data...\n",
      "[nltk_data]   Package stopwords is already up-to-date!\n"
     ]
    },
    {
     "data": {
      "application/vnd.jupyter.widget-view+json": {
       "model_id": "30505cf3708841c0a954815e3c73537f",
       "version_major": 2,
       "version_minor": 0
      },
      "text/plain": [
       "BLAST:   0%|          | 0/4589 [00:00<?, ?it/s]"
      ]
     },
     "metadata": {},
     "output_type": "display_data"
    },
    {
     "name": "stdout",
     "output_type": "stream",
     "text": [
      "Amazon-Google ExtendedQGramsBlocking\n",
      "99.7285 92.545 9.046 96.0025\n",
      "\n",
      "1\n",
      "sens res done\n",
      "Minor: 99.49 86.67 3.74 92.64\n",
      "major: 99.74 92.86 9.74 96.18\n",
      "diff : 0.25 6.2 6.0 3.54\n",
      "\n"
     ]
    },
    {
     "name": "stderr",
     "output_type": "stream",
     "text": [
      "[nltk_data] Downloading package stopwords to\n",
      "[nltk_data]     /Users/mohammad/nltk_data...\n",
      "[nltk_data]   Package stopwords is already up-to-date!\n"
     ]
    },
    {
     "data": {
      "application/vnd.jupyter.widget-view+json": {
       "model_id": "bbe037a61240416daf2bce5a77ceb671",
       "version_major": 2,
       "version_minor": 0
      },
      "text/plain": [
       "BLAST:   0%|          | 0/4589 [00:00<?, ?it/s]"
      ]
     },
     "metadata": {},
     "output_type": "display_data"
    },
    {
     "name": "stdout",
     "output_type": "stream",
     "text": [
      "Amazon-Google ExtendedSuffixArraysBlocking\n",
      "99.8628 83.7189 16.1969 91.081\n",
      "\n",
      "1\n",
      "sens res done\n",
      "Minor: 99.84 66.67 8.93 79.95\n",
      "major: 99.86 84.64 16.78 91.63\n",
      "diff : 0.03 17.98 7.85 11.68\n",
      "\n"
     ]
    },
    {
     "name": "stderr",
     "output_type": "stream",
     "text": [
      "[nltk_data] Downloading package stopwords to\n",
      "[nltk_data]     /Users/mohammad/nltk_data...\n",
      "[nltk_data]   Package stopwords is already up-to-date!\n"
     ]
    },
    {
     "data": {
      "application/vnd.jupyter.widget-view+json": {
       "model_id": "f3bd77eec2a94bcca2bb29e1750ff2f4",
       "version_major": 2,
       "version_minor": 0
      },
      "text/plain": [
       "BLAST:   0%|          | 0/4589 [00:00<?, ?it/s]"
      ]
     },
     "metadata": {},
     "output_type": "display_data"
    },
    {
     "name": "stdout",
     "output_type": "stream",
     "text": [
      "Amazon-Google QGramsBlocking\n",
      "99.7248 94.6015 9.1225 97.0956\n",
      "\n",
      "1\n",
      "sens res done\n",
      "Minor: 99.51 93.33 4.15 96.32\n",
      "major: 99.74 94.67 9.75 97.14\n",
      "diff : 0.23 1.34 5.59 0.82\n",
      "\n"
     ]
    },
    {
     "name": "stderr",
     "output_type": "stream",
     "text": [
      "[nltk_data] Downloading package stopwords to\n",
      "[nltk_data]     /Users/mohammad/nltk_data...\n",
      "[nltk_data]   Package stopwords is already up-to-date!\n"
     ]
    },
    {
     "data": {
      "application/vnd.jupyter.widget-view+json": {
       "model_id": "fcebaad64476472cb94778763ef65cba",
       "version_major": 2,
       "version_minor": 0
      },
      "text/plain": [
       "BLAST:   0%|          | 0/4589 [00:00<?, ?it/s]"
      ]
     },
     "metadata": {},
     "output_type": "display_data"
    },
    {
     "name": "stdout",
     "output_type": "stream",
     "text": [
      "Amazon-Google SuffixArraysBlocking\n",
      "99.8494 85.5184 15.0687 92.1299\n",
      "\n",
      "1\n",
      "sens res done\n",
      "Minor: 99.79 75.0 7.98 85.64\n",
      "major: 99.85 86.09 15.73 92.46\n",
      "diff : 0.06 11.09 7.75 6.82\n",
      "\n"
     ]
    },
    {
     "name": "stderr",
     "output_type": "stream",
     "text": [
      "[nltk_data] Downloading package stopwords to\n",
      "[nltk_data]     /Users/mohammad/nltk_data...\n",
      "[nltk_data]   Package stopwords is already up-to-date!\n"
     ]
    },
    {
     "data": {
      "application/vnd.jupyter.widget-view+json": {
       "model_id": "fc4dfb2069ca4c5688bcbc7b18f1efcc",
       "version_major": 2,
       "version_minor": 0
      },
      "text/plain": [
       "BLAST:   0%|          | 0/4910 [00:00<?, ?it/s]"
      ]
     },
     "metadata": {},
     "output_type": "display_data"
    },
    {
     "name": "stdout",
     "output_type": "stream",
     "text": [
      "DBLP-ACM StandardBlocking\n",
      "99.9425 99.955 64.3002 99.9487\n",
      "\n",
      "1\n",
      "sens match done\n",
      "Minor: 99.95 100.0 55.16 99.97\n",
      "major: 99.94 99.95 66.08 99.94\n",
      "diff : -0.01 -0.05 10.92 -0.03\n",
      "\n"
     ]
    },
    {
     "name": "stderr",
     "output_type": "stream",
     "text": [
      "[nltk_data] Downloading package stopwords to\n",
      "[nltk_data]     /Users/mohammad/nltk_data...\n",
      "[nltk_data]   Package stopwords is already up-to-date!\n"
     ]
    },
    {
     "data": {
      "application/vnd.jupyter.widget-view+json": {
       "model_id": "146e33ba7ab14ead8f1b17f5f24835e1",
       "version_major": 2,
       "version_minor": 0
      },
      "text/plain": [
       "BLAST:   0%|          | 0/4910 [00:00<?, ?it/s]"
      ]
     },
     "metadata": {},
     "output_type": "display_data"
    },
    {
     "name": "stdout",
     "output_type": "stream",
     "text": [
      "DBLP-ACM ExtendedQGramsBlocking\n",
      "99.9072 99.955 39.8527 99.9311\n",
      "\n",
      "1\n",
      "Minor: 99.92 100.0 34.64 99.96\n",
      "major: 99.9 99.95 40.85 99.93\n",
      "diff : -0.01 -0.05 6.21 -0.03\n",
      "\n"
     ]
    },
    {
     "name": "stderr",
     "output_type": "stream",
     "text": [
      "[nltk_data] Downloading package stopwords to\n",
      "[nltk_data]     /Users/mohammad/nltk_data...\n",
      "[nltk_data]   Package stopwords is already up-to-date!\n"
     ]
    },
    {
     "data": {
      "application/vnd.jupyter.widget-view+json": {
       "model_id": "fff4a90900834ce098601e4d9ee8cd57",
       "version_major": 2,
       "version_minor": 0
      },
      "text/plain": [
       "BLAST:   0%|          | 0/4910 [00:00<?, ?it/s]"
      ]
     },
     "metadata": {},
     "output_type": "display_data"
    },
    {
     "name": "stdout",
     "output_type": "stream",
     "text": [
      "DBLP-ACM ExtendedSuffixArraysBlocking\n",
      "99.9135 97.2523 41.5832 98.5649\n",
      "\n",
      "1\n",
      "Minor: 99.92 97.74 34.51 98.82\n",
      "major: 99.91 97.17 43.02 98.52\n",
      "diff : -0.01 -0.57 8.51 -0.3\n",
      "\n"
     ]
    },
    {
     "name": "stderr",
     "output_type": "stream",
     "text": [
      "[nltk_data] Downloading package stopwords to\n",
      "[nltk_data]     /Users/mohammad/nltk_data...\n",
      "[nltk_data]   Package stopwords is already up-to-date!\n"
     ]
    },
    {
     "data": {
      "application/vnd.jupyter.widget-view+json": {
       "model_id": "d9998c74907049e48140750740abd2c0",
       "version_major": 2,
       "version_minor": 0
      },
      "text/plain": [
       "BLAST:   0%|          | 0/4910 [00:00<?, ?it/s]"
      ]
     },
     "metadata": {},
     "output_type": "display_data"
    },
    {
     "name": "stdout",
     "output_type": "stream",
     "text": [
      "DBLP-ACM QGramsBlocking\n",
      "99.8964 100.0 35.6913 99.9481\n",
      "\n",
      "1\n",
      "Minor: 99.91 100.0 32.16 99.96\n",
      "major: 99.89 100.0 36.34 99.95\n",
      "diff : -0.02 0.0 4.18 -0.01\n",
      "\n"
     ]
    },
    {
     "name": "stderr",
     "output_type": "stream",
     "text": [
      "[nltk_data] Downloading package stopwords to\n",
      "[nltk_data]     /Users/mohammad/nltk_data...\n",
      "[nltk_data]   Package stopwords is already up-to-date!\n"
     ]
    },
    {
     "data": {
      "application/vnd.jupyter.widget-view+json": {
       "model_id": "7da1c469e97e4d399f00b1996fdbad3c",
       "version_major": 2,
       "version_minor": 0
      },
      "text/plain": [
       "BLAST:   0%|          | 0/4910 [00:00<?, ?it/s]"
      ]
     },
     "metadata": {},
     "output_type": "display_data"
    },
    {
     "name": "stdout",
     "output_type": "stream",
     "text": [
      "DBLP-ACM SuffixArraysBlocking\n",
      "99.9347 98.964 56.0888 99.447\n",
      "\n",
      "1\n",
      "Minor: 99.95 99.35 51.59 99.65\n",
      "major: 99.93 98.9 56.9 99.41\n",
      "diff : -0.01 -0.45 5.31 -0.24\n",
      "\n"
     ]
    },
    {
     "name": "stderr",
     "output_type": "stream",
     "text": [
      "[nltk_data] Downloading package stopwords to\n",
      "[nltk_data]     /Users/mohammad/nltk_data...\n",
      "[nltk_data]   Package stopwords is already up-to-date!\n"
     ]
    },
    {
     "data": {
      "application/vnd.jupyter.widget-view+json": {
       "model_id": "c31b06ea29b74d51a2e2047e61c88612",
       "version_major": 2,
       "version_minor": 0
      },
      "text/plain": [
       "BLAST:   0%|          | 0/66879 [00:00<?, ?it/s]"
      ]
     },
     "metadata": {},
     "output_type": "display_data"
    },
    {
     "name": "stdout",
     "output_type": "stream",
     "text": [
      "DBLP-GoogleScholar StandardBlocking\n",
      "99.9482 98.9901 6.081 99.4668\n",
      "\n",
      "1\n",
      "sens res done\n",
      "sens match done\n",
      "Minor: 99.99 98.76 39.13 99.37\n",
      "major: 99.94 99.01 5.69 99.47\n",
      "diff : -0.05 0.25 -33.44 0.1\n",
      "\n"
     ]
    },
    {
     "name": "stderr",
     "output_type": "stream",
     "text": [
      "[nltk_data] Downloading package stopwords to\n",
      "[nltk_data]     /Users/mohammad/nltk_data...\n",
      "[nltk_data]   Package stopwords is already up-to-date!\n"
     ]
    },
    {
     "data": {
      "application/vnd.jupyter.widget-view+json": {
       "model_id": "19655c2a91b44726a66086ad97aebb7c",
       "version_major": 2,
       "version_minor": 0
      },
      "text/plain": [
       "BLAST:   0%|          | 0/66879 [00:00<?, ?it/s]"
      ]
     },
     "metadata": {},
     "output_type": "display_data"
    },
    {
     "name": "stdout",
     "output_type": "stream",
     "text": [
      "DBLP-GoogleScholar ExtendedQGramsBlocking\n",
      "99.9687 98.3542 10.0038 99.1549\n",
      "\n",
      "1\n",
      "sens res done\n",
      "Minor: 99.99 98.51 24.19 99.24\n",
      "major: 99.97 98.34 9.55 99.15\n",
      "diff : -0.02 -0.17 -14.65 -0.1\n",
      "\n"
     ]
    },
    {
     "name": "stderr",
     "output_type": "stream",
     "text": [
      "[nltk_data] Downloading package stopwords to\n",
      "[nltk_data]     /Users/mohammad/nltk_data...\n",
      "[nltk_data]   Package stopwords is already up-to-date!\n"
     ]
    },
    {
     "data": {
      "application/vnd.jupyter.widget-view+json": {
       "model_id": "528f42d8503e4943907e9e87199c00d6",
       "version_major": 2,
       "version_minor": 0
      },
      "text/plain": [
       "BLAST:   0%|          | 0/66879 [00:00<?, ?it/s]"
      ]
     },
     "metadata": {},
     "output_type": "display_data"
    },
    {
     "name": "stdout",
     "output_type": "stream",
     "text": [
      "DBLP-GoogleScholar ExtendedSuffixArraysBlocking\n",
      "99.9862 76.9403 17.7872 86.9623\n",
      "\n",
      "1\n",
      "sens res done\n",
      "Minor: 99.99 74.94 15.46 85.67\n",
      "major: 99.99 77.1 18.0 87.07\n",
      "diff : 0.0 2.17 2.55 1.4\n",
      "\n"
     ]
    },
    {
     "name": "stderr",
     "output_type": "stream",
     "text": [
      "[nltk_data] Downloading package stopwords to\n",
      "[nltk_data]     /Users/mohammad/nltk_data...\n",
      "[nltk_data]   Package stopwords is already up-to-date!\n"
     ]
    },
    {
     "data": {
      "application/vnd.jupyter.widget-view+json": {
       "model_id": "e2d0e4ce4dd741b389f33eaa37cc8a18",
       "version_major": 2,
       "version_minor": 0
      },
      "text/plain": [
       "BLAST:   0%|          | 0/66879 [00:00<?, ?it/s]"
      ]
     },
     "metadata": {},
     "output_type": "display_data"
    },
    {
     "name": "stdout",
     "output_type": "stream",
     "text": [
      "DBLP-GoogleScholar QGramsBlocking\n",
      "99.9703 99.2893 10.6169 99.6286\n",
      "\n",
      "1\n",
      "sens res done\n",
      "Minor: 99.99 98.76 24.92 99.37\n",
      "major: 99.97 99.33 10.15 99.65\n",
      "diff : -0.02 0.57 -14.78 0.28\n",
      "\n"
     ]
    },
    {
     "name": "stderr",
     "output_type": "stream",
     "text": [
      "[nltk_data] Downloading package stopwords to\n",
      "[nltk_data]     /Users/mohammad/nltk_data...\n",
      "[nltk_data]   Package stopwords is already up-to-date!\n"
     ]
    },
    {
     "data": {
      "application/vnd.jupyter.widget-view+json": {
       "model_id": "2bbf5a8fdc0f4375aa39d37b61c909ba",
       "version_major": 2,
       "version_minor": 0
      },
      "text/plain": [
       "BLAST:   0%|          | 0/66879 [00:00<?, ?it/s]"
      ]
     },
     "metadata": {},
     "output_type": "display_data"
    },
    {
     "name": "stdout",
     "output_type": "stream",
     "text": [
      "DBLP-GoogleScholar SuffixArraysBlocking\n",
      "99.9842 82.7941 16.631 90.5808\n",
      "\n",
      "1\n",
      "sens res done\n",
      "Minor: 99.98 81.64 16.42 89.88\n",
      "major: 99.98 82.89 16.65 90.64\n",
      "diff : -0.0 1.25 0.23 0.75\n",
      "\n"
     ]
    },
    {
     "name": "stderr",
     "output_type": "stream",
     "text": [
      "[nltk_data] Downloading package stopwords to\n",
      "[nltk_data]     /Users/mohammad/nltk_data...\n",
      "[nltk_data]   Package stopwords is already up-to-date!\n"
     ]
    },
    {
     "data": {
      "application/vnd.jupyter.widget-view+json": {
       "model_id": "36427f17dc954e258d03661ad4d53e85",
       "version_major": 2,
       "version_minor": 0
      },
      "text/plain": [
       "Cardinality Edge Pruning:   0%|          | 0/6907 [00:00<?, ?it/s]"
      ]
     },
     "metadata": {},
     "output_type": "display_data"
    },
    {
     "name": "stdout",
     "output_type": "stream",
     "text": [
      "iTunes-Amazon StandardBlocking\n",
      "99.8756 94.697 0.026 97.2174\n",
      "\n",
      "1\n",
      "sens res done\n",
      "sens match done\n",
      "Minor: 99.94 92.5 0.04 96.08\n",
      "major: 99.83 95.65 0.02 97.69\n",
      "diff : -0.11 3.15 -0.01 1.62\n",
      "\n"
     ]
    },
    {
     "name": "stderr",
     "output_type": "stream",
     "text": [
      "[nltk_data] Downloading package stopwords to\n",
      "[nltk_data]     /Users/mohammad/nltk_data...\n",
      "[nltk_data]   Package stopwords is already up-to-date!\n"
     ]
    },
    {
     "data": {
      "application/vnd.jupyter.widget-view+json": {
       "model_id": "0a33528e9a304c5d9c8b3bcae7e71fa4",
       "version_major": 2,
       "version_minor": 0
      },
      "text/plain": [
       "Cardinality Edge Pruning:   0%|          | 0/6907 [00:00<?, ?it/s]"
      ]
     },
     "metadata": {},
     "output_type": "display_data"
    },
    {
     "name": "stdout",
     "output_type": "stream",
     "text": [
      "iTunes-Amazon ExtendedQGramsBlocking\n",
      "99.8076 69.697 0.0124 82.0779\n",
      "\n",
      "1\n",
      "sens res done\n",
      "Minor: 99.9 65.0 0.01 78.76\n",
      "major: 99.74 71.74 0.01 83.45\n",
      "diff : -0.16 6.74 -0.0 4.7\n",
      "\n"
     ]
    },
    {
     "name": "stderr",
     "output_type": "stream",
     "text": [
      "[nltk_data] Downloading package stopwords to\n",
      "[nltk_data]     /Users/mohammad/nltk_data...\n",
      "[nltk_data]   Package stopwords is already up-to-date!\n"
     ]
    },
    {
     "data": {
      "application/vnd.jupyter.widget-view+json": {
       "model_id": "114e71a11d274df794689ebc3d19a0f2",
       "version_major": 2,
       "version_minor": 0
      },
      "text/plain": [
       "Cardinality Edge Pruning:   0%|          | 0/6907 [00:00<?, ?it/s]"
      ]
     },
     "metadata": {},
     "output_type": "display_data"
    },
    {
     "name": "stdout",
     "output_type": "stream",
     "text": [
      "iTunes-Amazon ExtendedSuffixArraysBlocking\n",
      "99.9905 51.5152 0.1863 67.9978\n",
      "\n",
      "1\n",
      "sens res done\n",
      "Minor: 99.99 50.0 0.14 66.66\n",
      "major: 99.99 52.17 0.22 68.57\n",
      "diff : -0.0 2.17 0.08 1.9\n",
      "\n"
     ]
    },
    {
     "name": "stderr",
     "output_type": "stream",
     "text": [
      "[nltk_data] Downloading package stopwords to\n",
      "[nltk_data]     /Users/mohammad/nltk_data...\n",
      "[nltk_data]   Package stopwords is already up-to-date!\n"
     ]
    },
    {
     "data": {
      "application/vnd.jupyter.widget-view+json": {
       "model_id": "976f4eb6f4e7400c98388077cd6f4b70",
       "version_major": 2,
       "version_minor": 0
      },
      "text/plain": [
       "Cardinality Edge Pruning:   0%|          | 0/6907 [00:00<?, ?it/s]"
      ]
     },
     "metadata": {},
     "output_type": "display_data"
    },
    {
     "name": "stdout",
     "output_type": "stream",
     "text": [
      "iTunes-Amazon QGramsBlocking\n",
      "99.8266 73.4848 0.0145 84.6539\n",
      "\n",
      "1\n",
      "sens res done\n",
      "Minor: 99.91 67.5 0.02 80.57\n",
      "major: 99.76 76.09 0.01 86.33\n",
      "diff : -0.14 8.59 -0.0 5.77\n",
      "\n"
     ]
    },
    {
     "name": "stderr",
     "output_type": "stream",
     "text": [
      "[nltk_data] Downloading package stopwords to\n",
      "[nltk_data]     /Users/mohammad/nltk_data...\n",
      "[nltk_data]   Package stopwords is already up-to-date!\n"
     ]
    },
    {
     "data": {
      "application/vnd.jupyter.widget-view+json": {
       "model_id": "9cd73c38c9e84d769973ee21e896b398",
       "version_major": 2,
       "version_minor": 0
      },
      "text/plain": [
       "Cardinality Edge Pruning:   0%|          | 0/6907 [00:00<?, ?it/s]"
      ]
     },
     "metadata": {},
     "output_type": "display_data"
    },
    {
     "name": "stdout",
     "output_type": "stream",
     "text": [
      "iTunes-Amazon SuffixArraysBlocking\n",
      "99.9928 51.5152 0.2436 67.9983\n",
      "\n",
      "1\n",
      "sens res done\n",
      "Minor: 99.99 52.5 0.21 68.85\n",
      "major: 99.99 51.09 0.26 67.62\n",
      "diff : -0.0 -1.41 0.05 -1.23\n",
      "\n"
     ]
    }
   ],
   "source": [
    "import os\n",
    "import time\n",
    "import copy\n",
    "from func import *\n",
    "import numpy as np\n",
    "import pandas as pd\n",
    "from pyjedai.datamodel import Data\n",
    "from pyjedai.block_cleaning import BlockPurging, BlockFiltering\n",
    "from pyjedai.comparison_cleaning import CardinalityEdgePruning,BLAST\n",
    "from pyjedai.block_building import (\n",
    "    StandardBlocking,\n",
    "    ExtendedQGramsBlocking,\n",
    "    ExtendedSuffixArraysBlocking,\n",
    "    QGramsBlocking,\n",
    "    SuffixArraysBlocking\n",
    ")\n",
    "\n",
    "\n",
    "\n",
    "output_file = \"no_sens.txt\"\n",
    "try: os.remove(output_file)\n",
    "except FileNotFoundError: pass\n",
    "\n",
    "\n",
    "tasks = ['Beer','Fodors-Zagat', 'Walmart-Amazon', 'Amazon-Google', 'DBLP-ACM', 'DBLP-GoogleScholar', 'iTunes-Amazon']\n",
    "methods = ['SB', 'EQG', 'ESA', 'QG','SA']\n",
    "\n",
    "\n",
    "\n",
    "# Process each task with each method\n",
    "for task in tasks:\n",
    "    for method in methods:\n",
    "        \n",
    "        left_df, right_df,match_df = load_blk_data(task)\n",
    "\n",
    "\n",
    "\n",
    "        if method in classic_method_dict:\n",
    "\n",
    "            candidates, runtime, df = trad_blk(task, method, left_df, right_df, match_df, attr_type = 'no sens')\n",
    "\n",
    "\n",
    "        else:\n",
    "            if method == 'CTT':\n",
    "                start_time = time.time()\n",
    "                candidates = deepBlock(left_df.copy(), right_df.copy(), K = 50, method = 'CTT')\n",
    "                end_time = time.time()\n",
    "                runtime = end_time - start_time\n",
    "            elif method =='AE':\n",
    "                start_time = time.time()\n",
    "                candidates = deepBlock(left_df.copy(), right_df.copy(), K = 50, method = 'AE')\n",
    "                end_time = time.time()\n",
    "                runtime = end_time - start_time\n",
    "            else:\n",
    "                print('method not found!')\n",
    "\n",
    "\n",
    "\n",
    "        # Compile result rows\n",
    "        candidates= candidates.astype(int)\n",
    "        candidates.rename(columns={'ltable_id': 'id1', 'rtable_id': 'id2'}, inplace=True)\n",
    "\n",
    "        # Merge left_df and right_df with candidates based on ids using vectorized operations\n",
    "        left_merged = candidates.merge(left_df, left_on='id1', right_on='id', suffixes=('', '_left'))\n",
    "        right_merged = left_merged.merge(right_df, left_on='id2', right_on='id', suffixes=('_left', '_right'))\n",
    "\n",
    "        # Drop redundant columns and reset index\n",
    "        result_df = right_merged.drop(columns=['id1', 'id2', 'id_left', 'id_right'])\n",
    "        result_df = right_merged.copy()\n",
    "\n",
    "        # Merge with match_df to determine labels\n",
    "        merged_df = result_df.merge(match_df, left_on=['id_left', 'id_right'], right_on=['ltable_id', 'rtable_id'], how='left', indicator=True)\n",
    "        result_df['label'] = (merged_df['_merge'] == 'both').astype(int)\n",
    "\n",
    "        # result_df.to_csv(task+'_'+method+'_blk.csv',index=False)\n",
    "        # continue\n",
    "\n",
    "\n",
    "        # Calculate metrics\n",
    "        RR = 1 - result_df.shape[0] / (left_df.shape[0] * right_df.shape[0])\n",
    "        PC = np.sum(result_df['label'] == 1) / match_df.shape[0]\n",
    "        PQ = np.sum(result_df['label'] == 1) / result_df.shape[0]\n",
    "        F = 2 * PC * RR / (PC + RR)\n",
    "\n",
    "        # Print and save results\n",
    "        print(task, classic_method_name[method])\n",
    "        print(round(100 * RR, 4), round(100 * PC, 4), round(100 * PQ, 4), round(100 * F, 4))\n",
    "        print()\n",
    "\n",
    "\n",
    "        res_sens = []\n",
    "        if task == 'DBLP-ACM':\n",
    "            LEFT = pd.DataFrame({'sens':pd.read_csv('data/'+task+'/'+'left_sens.csv')['0'],\n",
    "            'id':pd.read_csv('data/'+task+'/'+'tableA.csv')['id']})\n",
    "\n",
    "\n",
    "            RIGHT = pd.DataFrame({'sens':pd.read_csv('data/'+task+'/'+'right_sens.csv')['0'],\n",
    "            'id':pd.read_csv('data/'+task+'/'+'tableB.csv')['id']})\n",
    "\n",
    "            a = list(result_df['id1'])\n",
    "            b = list(result_df['id2'])\n",
    "\n",
    "\n",
    "            res_sens = []\n",
    "            for i in range(len(a)):\n",
    "                sens_c = np.logical_or(list(RIGHT[RIGHT['id'] == b[i]]['sens'])[0],list(LEFT[LEFT['id'] == a[i]]['sens'])[0])\n",
    "                res_sens.append(sens_c)\n",
    "\n",
    "        print(1)\n",
    "\n",
    "\n",
    "\n",
    "        MINOR, MAJOR, data_STAT = calc_bias_block(result_df,match_df,left_df,right_df, task , sens_dict,res_sens )\n",
    "        [RR_minor,PC_minor,PQ_minor,Fb_minor ] = MINOR\n",
    "        [RR_major,PC_major,PQ_major,Fb_major ] = MAJOR\n",
    "        [P_major, P_minor, M_major, M_minor] = data_STAT\n",
    "\n",
    "        NUM = 2\n",
    "        print('Minor: ',end='')\n",
    "        print(round(RR_minor,NUM),round(PC_minor,NUM),round(PQ_minor,NUM), round(Fb_minor,NUM))\n",
    "        print('major: ',end='')\n",
    "        print(round(RR_major,NUM),round(PC_major,NUM),round(PQ_major,NUM), round(Fb_major,NUM))\n",
    "        print('diff : ',end='')\n",
    "        print(round(RR_major-RR_minor ,NUM),round(PC_major- PC_minor,NUM),round(PQ_major - PQ_minor,NUM),round(Fb_major - Fb_minor,NUM))\n",
    "\n",
    "\n",
    "        print()\n",
    "        # output_file = 'tmp.txt'\n",
    "        with open(output_file, \"a\") as file:\n",
    "            file.write(f\"{task} {classic_method_name[method]}\\n\")\n",
    "            file.write(f\"{round(100 * RR,8)} {round(100 * PC,8)} {round(100 * PQ,8)} {round(100 * F,8)} {round(runtime, 2)}\\n\")\n",
    "            file.write(f\"bias {round( RR_minor,8)} {round( PC_minor,8)} {round( PQ_minor,8)} {round( Fb_minor,8)}\\n\")\n",
    "            file.write(f\"bias {round( RR_major,8)} {round( PC_major,8)} {round( PQ_major,8)} {round( Fb_major,8)}\\n\")\n",
    "            file.write(f\"bias {round( RR_major - RR_minor,8)} {round( PC_major - PC_minor,8)} {round( PQ_major - PQ_minor,8)} {round( Fb_major - Fb_minor,8)}\\n\")\n",
    "            file.write(f\"bias {P_major} {P_minor} {M_major} {M_minor}\\n\\n\")\n",
    "            \n",
    "\n",
    "\n",
    "\n",
    "        \n",
    "\n"
   ]
  },
  {
   "cell_type": "code",
   "execution_count": null,
   "metadata": {},
   "outputs": [],
   "source": []
  },
  {
   "cell_type": "code",
   "execution_count": null,
   "metadata": {},
   "outputs": [],
   "source": []
  }
 ],
 "metadata": {
  "kernelspec": {
   "display_name": "Python 3",
   "language": "python",
   "name": "python3"
  },
  "language_info": {
   "codemirror_mode": {
    "name": "ipython",
    "version": 3
   },
   "file_extension": ".py",
   "mimetype": "text/x-python",
   "name": "python",
   "nbconvert_exporter": "python",
   "pygments_lexer": "ipython3",
   "version": "3.12.2"
  }
 },
 "nbformat": 4,
 "nbformat_minor": 2
}
