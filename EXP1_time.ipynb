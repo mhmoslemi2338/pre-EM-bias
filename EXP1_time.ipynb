{
 "cells": [
  {
   "cell_type": "markdown",
   "metadata": {},
   "source": [
    "## time experiment"
   ]
  },
  {
   "cell_type": "code",
   "execution_count": null,
   "metadata": {},
   "outputs": [],
   "source": [
    "import os\n",
    "import time\n",
    "import copy\n",
    "import numpy as np\n",
    "import pandas as pd\n",
    "from func import *\n",
    "\n",
    "\n",
    "output_file = \"RES/exp1_block_time_all.txt\"\n",
    "tasks = ['Beer','Fodors-Zagat', 'Walmart-Amazon', 'Amazon-Google', 'DBLP-ACM', 'DBLP-GoogleScholar', 'iTunes-Amazon']\n",
    "methods = ['SB', 'EQG', 'ESA', 'QG','SA','AE','CTT']\n",
    "\n",
    "\n",
    "\n",
    "\n",
    "N = 2\n",
    "for task in tasks:\n",
    "    for method in methods:\n",
    "        \n",
    "        \n",
    "        left_df, right_df,match_df = load_blk_data(task)\n",
    "        \n",
    "        time_all = []\n",
    "        for _ in range(N):\n",
    "            if method not in ['AE','CTT']:\n",
    "                _, tot_time, _ = trad_blk(task, method, left_df, right_df, match_df, attr_type = 'all')\n",
    "            else:\n",
    "                _, tot_time = deepBlock(left_df.copy(), right_df.copy(), K = 50, method = method)\n",
    "            time_all.append(tot_time)\n",
    "\n",
    "        with open(output_file, \"a\") as file:\n",
    "            file.write(f\"{task} {classic_method_name[method]}\\n\")\n",
    "            file.write(f\"{round(np.average(time_all), 4)} {round(np.std(time_all), 4)}\\n\")\n",
    "\n",
    "\n",
    "            \n"
   ]
  },
  {
   "cell_type": "markdown",
   "metadata": {},
   "source": [
    "## time for same dataset"
   ]
  },
  {
   "cell_type": "code",
   "execution_count": null,
   "metadata": {},
   "outputs": [],
   "source": [
    "import os\n",
    "import time\n",
    "import copy\n",
    "import numpy as np\n",
    "import pandas as pd\n",
    "from func import *\n",
    "\n",
    "\n",
    "\n",
    "tasks = ['Beer','Fodors-Zagat', 'Walmart-Amazon', 'Amazon-Google', 'DBLP-ACM', 'DBLP-GoogleScholar', 'iTunes-Amazon']\n",
    "methods = ['SB', 'EQG', 'ESA', 'QG','SA','AE','CTT']\n",
    "\n",
    "output_file = \"RES/exp1_block_time_same.txt\"\n",
    "\n",
    "\n",
    "N =2\n",
    "for task in tasks:\n",
    "    for method in methods:\n",
    "        \n",
    "\n",
    "        left_df_orig, right_df_orig,match_df_orig = load_blk_data(task)\n",
    "        for f in [0.01, 0.2,0.4,0.6,0.8,1]:\n",
    "            left_df = copy.deepcopy(left_df_orig).sample(frac =np.sqrt(f),replace=False)\n",
    "            right_df = copy.deepcopy(right_df_orig).sample(frac =np.sqrt(f),replace=False)\n",
    "            match_df = copy.deepcopy(match_df_orig)\n",
    "            match_df = match_df[match_df['ltable_id'].isin(list(left_df['id']))]\n",
    "            match_df = match_df[match_df['rtable_id'].isin(list(right_df['id']))]\n",
    "\n",
    "\n",
    "            runtime = 0\n",
    "            for _ in range(N):\n",
    "                if method not in ['AE','CTT']:\n",
    "                    _, tot_time, _ = trad_blk(task, method, left_df, right_df, match_df, attr_type = 'all')\n",
    "                else:\n",
    "                    _, tot_time = deepBlock(left_df.copy(), right_df.copy(), K = 50, method = method)\n",
    "                runtime+=tot_time\n",
    "            runtime = runtime /N\n",
    "\n",
    "\n",
    "            with open(output_file, \"a\") as file:\n",
    "                if f == 0.01:\n",
    "                    file.write(f\"{task} {classic_method_name[method]}\\n\")\n",
    "                file.write(f\"{f} {round(runtime, 4)}\\n\")\n",
    "                if f == 1: file.write(f\"\\n\")\n",
    "            \n",
    "\n",
    "\n"
   ]
  },
  {
   "cell_type": "code",
   "execution_count": null,
   "metadata": {},
   "outputs": [],
   "source": []
  }
 ],
 "metadata": {
  "kernelspec": {
   "display_name": "Python 3",
   "language": "python",
   "name": "python3"
  },
  "language_info": {
   "codemirror_mode": {
    "name": "ipython",
    "version": 3
   },
   "file_extension": ".py",
   "mimetype": "text/x-python",
   "name": "python",
   "nbconvert_exporter": "python",
   "pygments_lexer": "ipython3",
   "version": "3.12.2"
  }
 },
 "nbformat": 4,
 "nbformat_minor": 2
}
